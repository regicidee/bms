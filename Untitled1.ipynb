{
 "cells": [
  {
   "cell_type": "code",
   "execution_count": 4,
   "id": "57be1d57-a834-4cb9-b684-5f2cddff2c60",
   "metadata": {},
   "outputs": [
    {
     "data": {
      "text/plain": [
       "'Corrected_Untitled.ipynb'"
      ]
     },
     "execution_count": 4,
     "metadata": {},
     "output_type": "execute_result"
    }
   ],
   "source": [
    "import nbformat\n",
    "\n",
    "# Load the Jupyter notebook\n",
    "file_path = \"Untitled.ipynb\"\n",
    "with open(file_path, \"r\") as f:\n",
    "    notebook = nbformat.read(f, as_version=4)\n",
    "\n",
    "# Replace 'null' with 'None' in the notebook\n",
    "for cell in notebook['cells']:\n",
    "    if cell['cell_type'] == 'code':\n",
    "        if 'execution_count' in cell and cell['execution_count'] is None:\n",
    "            cell['execution_count'] = None\n",
    "\n",
    "# Save the corrected notebook\n",
    "corrected_file_path = \"Corrected_Untitled.ipynb\"\n",
    "with open(corrected_file_path, \"w\") as f:\n",
    "    nbformat.write(notebook, f)\n",
    "\n",
    "corrected_file_path\n"
   ]
  },
  {
   "cell_type": "code",
   "execution_count": null,
   "id": "104adade-1a03-437d-9360-da0dbd62ce58",
   "metadata": {},
   "outputs": [],
   "source": []
  }
 ],
 "metadata": {
  "kernelspec": {
   "display_name": "Python 3 (ipykernel)",
   "language": "python",
   "name": "python3"
  },
  "language_info": {
   "codemirror_mode": {
    "name": "ipython",
    "version": 3
   },
   "file_extension": ".py",
   "mimetype": "text/x-python",
   "name": "python",
   "nbconvert_exporter": "python",
   "pygments_lexer": "ipython3",
   "version": "3.10.14"
  }
 },
 "nbformat": 4,
 "nbformat_minor": 5
}
